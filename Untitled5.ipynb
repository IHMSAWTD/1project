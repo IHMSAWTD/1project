{
  "nbformat": 4,
  "nbformat_minor": 0,
  "metadata": {
    "colab": {
      "provenance": [],
      "gpuType": "T4",
      "authorship_tag": "ABX9TyM8FUN3xJkJWwt8vckhFZUX",
      "include_colab_link": true
    },
    "kernelspec": {
      "name": "python3",
      "display_name": "Python 3"
    },
    "language_info": {
      "name": "python"
    },
    "accelerator": "GPU"
  },
  "cells": [
    {
      "cell_type": "markdown",
      "metadata": {
        "id": "view-in-github",
        "colab_type": "text"
      },
      "source": [
        "<a href=\"https://colab.research.google.com/github/IHMSAWTD/1project/blob/main/Untitled5.ipynb\" target=\"_parent\"><img src=\"https://colab.research.google.com/assets/colab-badge.svg\" alt=\"Open In Colab\"/></a>"
      ]
    },
    {
      "cell_type": "code",
      "execution_count": 1,
      "metadata": {
        "id": "-uRrTiMd_vE7"
      },
      "outputs": [],
      "source": [
        "import numpy as np\n",
        "import zipfile\n",
        "import tensorflow as tf\n",
        "from tensorflow.keras.models import Sequential\n",
        "from tensorflow.keras.layers import Dense , Conv2D, MaxPooling2D, Flatten, Dropout\n",
        "from tensorflow.keras import utils\n",
        "from tensorflow.keras.preprocessing import image, image_dataset_from_directory\n",
        "import matplotlib.pyplot as plt\n",
        "import matplotlib\n",
        "from google.colab import files\n",
        "import os\n",
        "import time\n",
        "import glob\n"
      ]
    },
    {
      "cell_type": "code",
      "source": [
        "batch_size = 32\n",
        "image_size = (256,256)"
      ],
      "metadata": {
        "id": "O8F75ssy_ypp"
      },
      "execution_count": 2,
      "outputs": []
    },
    {
      "cell_type": "code",
      "source": [
        "from google.colab import drive\n",
        "drive.mount('/content/drive')\n",
        "drive.mount(\"/content/drive\", force_remount=True)"
      ],
      "metadata": {
        "colab": {
          "base_uri": "https://localhost:8080/"
        },
        "id": "2Zomk7Qk_0hU",
        "outputId": "34b9dca5-0ec1-4a65-8fb8-d76a858f7bd8"
      },
      "execution_count": 3,
      "outputs": [
        {
          "output_type": "stream",
          "name": "stdout",
          "text": [
            "Mounted at /content/drive\n",
            "Mounted at /content/drive\n"
          ]
        }
      ]
    },
    {
      "cell_type": "code",
      "source": [
        "file = '/content/drive/MyDrive/dataset.zip'\n",
        "\n",
        "z= zipfile.ZipFile(file ,'r')\n",
        "z.extractall()\n",
        "\n",
        "print (os.listdir())\n",
        "print(z)"
      ],
      "metadata": {
        "colab": {
          "base_uri": "https://localhost:8080/"
        },
        "id": "-G6Ajeel_6Ps",
        "outputId": "47c2a69b-cf2b-4d75-f9e5-980375f4a5ed"
      },
      "execution_count": 4,
      "outputs": [
        {
          "output_type": "stream",
          "name": "stdout",
          "text": [
            "['.config', 'drive', 'dataset', 'sample_data']\n",
            "<zipfile.ZipFile filename='/content/drive/MyDrive/dataset.zip' mode='r'>\n"
          ]
        }
      ]
    },
    {
      "cell_type": "code",
      "source": [
        "train_dataset = image_dataset_from_directory('dataset',\n",
        "                                             subset = 'training',\n",
        "                                             seed = 42,\n",
        "                                             validation_split = 0.1 ,\n",
        "                                             batch_size = batch_size ,\n",
        "                                             image_size = image_size ,\n",
        "                                             )\n",
        "validation_dataset = image_dataset_from_directory('dataset',\n",
        "                                             subset = 'validation',\n",
        "                                             seed = 42,\n",
        "                                             validation_split = 0.1 ,\n",
        "                                             batch_size = batch_size ,\n",
        "                                             image_size = image_size ,\n",
        "                                             )"
      ],
      "metadata": {
        "colab": {
          "base_uri": "https://localhost:8080/"
        },
        "id": "Msw1Lb09_8m6",
        "outputId": "5841b5b7-4ac3-44db-ab38-4d86ada23601"
      },
      "execution_count": 5,
      "outputs": [
        {
          "output_type": "stream",
          "name": "stdout",
          "text": [
            "Found 1786 files belonging to 19 classes.\n",
            "Using 1608 files for training.\n",
            "Found 1786 files belonging to 19 classes.\n",
            "Using 178 files for validation.\n"
          ]
        }
      ]
    },
    {
      "cell_type": "code",
      "source": [
        "# def augmentate_images(image):\n",
        "#   random_crop = tf.random.uniform((), 0.3, 1)\n",
        "#   image = tf.image.central_crop(image, random_crop)\n",
        "#   random_flip = tf.random.uniform((), 0, 1)\n",
        "#   if random_flip >= 0.5:\n",
        "#     image = tf.image.flip_left_right(image)\n",
        "\n",
        "#   image = tf.image.resize(image, image_size)\n",
        "#   return image"
      ],
      "metadata": {
        "id": "qgKzub_7AhR1"
      },
      "execution_count": 6,
      "outputs": []
    },
    {
      "cell_type": "code",
      "source": [
        "#train_dataset.repeat(20)\n",
        "#train_dataset = train_dataset.map(augmentate_images, num_parallel_calls=tf.data.AUTOTUNE)"
      ],
      "metadata": {
        "id": "cvMK2cNZAxjG"
      },
      "execution_count": 7,
      "outputs": []
    },
    {
      "cell_type": "code",
      "source": [
        "class_names = train_dataset.class_names"
      ],
      "metadata": {
        "id": "0SXmjF_gFJCP"
      },
      "execution_count": 8,
      "outputs": []
    },
    {
      "cell_type": "code",
      "source": [
        "plt.figure(figsize=(8, 8))\n",
        "for images, labels in train_dataset.take(1):\n",
        "  for i in range(9):\n",
        "    ax = plt.subplot(3, 3, i + 1)\n",
        "    plt.imshow(images[i].numpy().astype(\"uint8\"))\n",
        "    plt.title(class_names[labels[i]])\n",
        "    plt.axis(\"off\")"
      ],
      "metadata": {
        "colab": {
          "base_uri": "https://localhost:8080/",
          "height": 675
        },
        "id": "gNbpUHxZDkeE",
        "outputId": "9b74bce5-eb93-4eeb-c0e9-0370497ef00a"
      },
      "execution_count": 9,
      "outputs": [
        {
          "output_type": "display_data",
          "data": {
            "text/plain": [
              "<Figure size 800x800 with 9 Axes>"
            ],
            "image/png": "[encoded data removed]"
          },
          "metadata": {}
        }
      ]
    },
    {
      "cell_type": "code",
      "source": [
        "file = '/content/drive/MyDrive/validation.zip'\n",
        "\n",
        "z= zipfile.ZipFile(file ,'r')\n",
        "z.extractall()\n",
        "\n",
        "print (os.listdir())\n",
        "print(z)"
      ],
      "metadata": {
        "colab": {
          "base_uri": "https://localhost:8080/"
        },
        "id": "HeHovWCFFiOM",
        "outputId": "86019871-469e-4320-dd20-68a78ac68123"
      },
      "execution_count": 10,
      "outputs": [
        {
          "output_type": "stream",
          "name": "stdout",
          "text": [
            "['.config', 'drive', 'dataset', 'validation', 'sample_data']\n",
            "<zipfile.ZipFile filename='/content/drive/MyDrive/validation.zip' mode='r'>\n"
          ]
        }
      ]
    },
    {
      "cell_type": "code",
      "source": [
        "test = image_dataset_from_directory(         'validation',\n",
        "                                             batch_size = batch_size ,\n",
        "                                             image_size = image_size ,\n",
        "                                             )"
      ],
      "metadata": {
        "colab": {
          "base_uri": "https://localhost:8080/"
        },
        "id": "nXrnJkpsF2qq",
        "outputId": "a415454b-d19f-401d-9db5-57c17f01dbde"
      },
      "execution_count": 11,
      "outputs": [
        {
          "output_type": "stream",
          "name": "stdout",
          "text": [
            "Found 1014 files belonging to 19 classes.\n"
          ]
        }
      ]
    },
    {
      "cell_type": "code",
      "source": [
        "AUTOTUNE = tf.data.experimental.AUTOTUNE\n",
        "\n",
        "train_dataset = train_dataset.prefetch(buffer_size=AUTOTUNE)\n",
        "validation_dataset = validation_dataset.prefetch(buffer_size=AUTOTUNE)\n",
        "test = test.prefetch(buffer_size=AUTOTUNE)"
      ],
      "metadata": {
        "id": "v-lnJO4TGUrJ"
      },
      "execution_count": 12,
      "outputs": []
    },
    {
      "cell_type": "code",
      "source": [
        "model = Sequential()\n",
        "model.add(Conv2D(16, (5, 5), padding='same',\n",
        "                 input_shape=(256, 256, 3), activation='relu'))\n",
        "model.add(MaxPooling2D(pool_size=(2, 2)))\n",
        "model.add(Conv2D(32, (5, 5), activation='relu', padding='same'))\n",
        "model.add(MaxPooling2D(pool_size=(2, 2)))\n",
        "model.add(Conv2D(64, (5, 5), activation='relu', padding='same'))\n",
        "model.add(MaxPooling2D(pool_size=(2, 2)))\n",
        "model.add(Conv2D(128, (5, 5), activation='relu', padding='same'))\n",
        "model.add(MaxPooling2D(pool_size=(2, 2)))\n",
        "model.add(Flatten())\n",
        "model.add(Dense(1024, activation='relu'))\n",
        "model.add(Dropout(0.2))\n",
        "model.add(Dense(256, activation='relu'))\n",
        "model.add(Dropout(0.2))\n",
        "model.add(Dense(19, activation='softmax'))"
      ],
      "metadata": {
        "id": "gnw_vTJ5G795"
      },
      "execution_count": 14,
      "outputs": []
    },
    {
      "cell_type": "code",
      "source": [
        "model.compile(loss='sparse_categorical_crossentropy',\n",
        "              optimizer=\"adam\",\n",
        "              metrics=['accuracy'])"
      ],
      "metadata": {
        "id": "Xo6uhrTEHC4F"
      },
      "execution_count": 15,
      "outputs": []
    },
    {
      "cell_type": "code",
      "source": [
        "history = model.fit(train_dataset,\n",
        "                    validation_data=validation_dataset,\n",
        "                    epochs=5,\n",
        "                    verbose=2)"
      ],
      "metadata": {
        "colab": {
          "base_uri": "https://localhost:8080/"
        },
        "id": "gohQ6L_qHHdd",
        "outputId": "45c683d5-b914-4dfc-f0ab-11b9542ea5d8"
      },
      "execution_count": 16,
      "outputs": [
        {
          "output_type": "stream",
          "name": "stdout",
          "text": [
            "Epoch 1/5\n",
            "51/51 - 15s - loss: 2.7135 - accuracy: 0.5659 - val_loss: 0.5134 - val_accuracy: 0.8764 - 15s/epoch - 301ms/step\n",
            "Epoch 2/5\n",
            "51/51 - 6s - loss: 0.1259 - accuracy: 0.9639 - val_loss: 0.0753 - val_accuracy: 0.9775 - 6s/epoch - 112ms/step\n",
            "Epoch 3/5\n",
            "51/51 - 5s - loss: 0.0866 - accuracy: 0.9789 - val_loss: 0.0346 - val_accuracy: 0.9831 - 5s/epoch - 90ms/step\n",
            "Epoch 4/5\n",
            "51/51 - 5s - loss: 0.0422 - accuracy: 0.9888 - val_loss: 0.0325 - val_accuracy: 0.9888 - 5s/epoch - 106ms/step\n",
            "Epoch 5/5\n",
            "51/51 - 5s - loss: 0.0211 - accuracy: 0.9913 - val_loss: 0.0107 - val_accuracy: 0.9944 - 5s/epoch - 96ms/step\n"
          ]
        }
      ]
    },
    {
      "cell_type": "code",
      "source": [
        "scores = model.evaluate(test, verbose=1)"
      ],
      "metadata": {
        "colab": {
          "base_uri": "https://localhost:8080/"
        },
        "id": "3F_mpZb3HNUQ",
        "outputId": "885af722-deef-4bc4-e271-41fa8a82e83f"
      },
      "execution_count": 17,
      "outputs": [
        {
          "output_type": "stream",
          "name": "stdout",
          "text": [
            "32/32 [==============================] - 3s 69ms/step - loss: 8.5385 - accuracy: 0.1016\n"
          ]
        }
      ]
    },
    {
      "cell_type": "code",
      "source": [
        "plt.plot(history.history['accuracy'],\n",
        "         label='Доля верных ответов на обучающем наборе')\n",
        "plt.plot(history.history['val_accuracy'],\n",
        "         label='Доля верных ответов на проверочном наборе')\n",
        "plt.xlabel('Эпоха обучения')\n",
        "plt.ylabel('Доля верных ответов')\n",
        "plt.legend()\n",
        "plt.show()"
      ],
      "metadata": {
        "colab": {
          "base_uri": "https://localhost:8080/",
          "height": 449
        },
        "id": "hlHeBtxFHQq6",
        "outputId": "771992b1-892f-4121-8c0f-076e46f7a7ca"
      },
      "execution_count": 18,
      "outputs": [
        {
          "output_type": "display_data",
          "data": {
            "text/plain": [
              "<Figure size 640x480 with 1 Axes>"
            ],
            "image/png": "[encoded data removed]"
          },
          "metadata": {}
        }
      ]
    }
  ]
}